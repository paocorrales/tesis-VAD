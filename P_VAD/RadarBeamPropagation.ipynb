{
 "cells": [
  {
   "cell_type": "code",
   "execution_count": null,
   "metadata": {
    "collapsed": true
   },
   "outputs": [],
   "source": [
    "###################################################################\n",
    "#                       Radar Beam Propagation                    #                \n",
    "#                      ========================                   #\n",
    "#                                                                 #\n",
    "# 4R/3 approximation                                              #\n",
    "#                                                                 #\n",
    "# Imputs:                                                         #\n",
    "#     r = array with the range data                               #\n",
    "#     theta = array with the elevation angles                     #\n",
    "#                                                                 # \n",
    "# Output:                                                         #\n",
    "#     objects type array                                          #\n",
    "#     r  = range                                                  #\n",
    "#     ht = height in kilomiters                                   #\n",
    "#     rh = horizontal range                                       #\n",
    "#     lea = local elevation angle in radians                      #\n",
    "###################################################################"
   ]
  },
  {
   "cell_type": "code",
   "execution_count": 2,
   "metadata": {
    "collapsed": true
   },
   "outputs": [],
   "source": [
    "def propagation(r, theta, plot='False'):\n",
    "    import numpy as np\n",
    "    \n",
    "    \n",
    "    R = 6371.0 #km\n",
    "    Rp = 4*R/3\n",
    "    ht  = np.zeros(shape=(len(r),len(theta)))\n",
    "    rh  = np.zeros(shape=(len(r),len(theta)))\n",
    "    lea  = np.zeros(shape=(len(r),len(theta)))\n",
    "\n",
    "    for i in range(len(theta)):\n",
    "        for j in range(len(r)):\n",
    "            #Calcula la altura teniendo en cuenta la apróximación\n",
    "            temp = np.sqrt(np.power(r[j], 2)+np.power(Rp, 2)+2*r[j]*Rp*np.sin(np.pi*theta[i]/180))-Rp\n",
    "            ht[j,i] = temp\n",
    "            #Calcula el rango horizontal\n",
    "            temp = r[j]*np.cos(np.pi*theta[i]/180)\n",
    "            rh[j,i] = temp\n",
    "            #Calcula el angulo de elevación efectivo teniendo en cuenta la aproximación\n",
    "            temp = np.pi*theta[i]/180 + np.arctan((r[j]*np.cos(np.pi*theta[i]/180))/(r[j]*np.sin(np.pi*theta[i]/180)+Rp))\n",
    "            lea[j,i] = temp\n",
    "    \n",
    "    if plot == 'True':\n",
    "        import matplotlib.pyplot as plt\n",
    "        # Grafico la propagación de los rayos\n",
    "        f = plt.figure(figsize = [15,10])\n",
    "        plt.plot(r,ht,'-b', label='rango')\n",
    "        plt.plot(rh,ht,'-r', label='rango horizontal')\n",
    "        plt.xlabel('Distancia al radar [km]',fontsize='16')\n",
    "        plt.ylabel('Altura [km]',fontsize='16')\n",
    "        plt.legend(loc='lower right')\n",
    "        plt.xlim([0, 250])\n",
    "        plt.ylim([0, 14])\n",
    "        plt.xticks(np.arange(0, 260, 10.0),fontsize='11')\n",
    "        plt.yticks(np.arange(0, 16, 1.0),fontsize='11')\n",
    "        plt.grid()\n",
    "        plt.show()\n",
    "        \n",
    "    return r, ht, rh, lea   "
   ]
  }
 ],
 "metadata": {
  "kernelspec": {
   "display_name": "Python 2",
   "language": "python",
   "name": "python2"
  },
  "language_info": {
   "codemirror_mode": {
    "name": "ipython",
    "version": 2
   },
   "file_extension": ".py",
   "mimetype": "text/x-python",
   "name": "python",
   "nbconvert_exporter": "python",
   "pygments_lexer": "ipython2",
   "version": "2.7.13"
  }
 },
 "nbformat": 4,
 "nbformat_minor": 0
}
