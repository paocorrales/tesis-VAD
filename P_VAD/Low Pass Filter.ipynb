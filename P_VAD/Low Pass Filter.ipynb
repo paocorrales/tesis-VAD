{
 "cells": [
  {
   "cell_type": "code",
   "execution_count": 192,
   "metadata": {
    "collapsed": false
   },
   "outputs": [],
   "source": [
    "###################################################################\n",
    "#                      Low Pass Filter Function                   #                \n",
    "#                      ========================                   #\n",
    "#                                                                 #\n",
    "# After Gao et.al. 2014                                           #\n",
    "#                                                                 #\n",
    "# Imputs:                                                         #\n",
    "#     data = array with the data to be filtering                  #\n",
    "#     N = numbers of poits to be use in the filter, must be even. #\n",
    "#                                                                 # \n",
    "# Output:                                                         #\n",
    "#     object type array                                           #                \n",
    "###################################################################"
   ]
  },
  {
   "cell_type": "code",
   "execution_count": 193,
   "metadata": {
    "collapsed": false
   },
   "outputs": [],
   "source": [
    "import numpy as np\n",
    "\n",
    "def lowpassfl(data, N):\n",
    "    \n",
    "    import numpy as np\n",
    "    \n",
    "    if N%2 != 0:\n",
    "        return 'N must be even!'\n",
    "        \n",
    "    \n",
    "    vector = np.zeros(len(data)+N)*np.nan\n",
    "    for i in range(N/2, len(data)+N/2):\n",
    "        vector[i] = data[i-N/2]\n",
    "    for i in range(0, N/2):\n",
    "        vector[i] = data[abs(N/2-len(data))+i]\n",
    "        vector[len(data)+N/2+i] = data[i]\n",
    "    \n",
    "    # Weights\n",
    "    W = np.array(range(0, N+1))\n",
    "    W = 1 - abs(W -(N/2))/float(N)\n",
    "    W_total = sum(W)\n",
    "    \n",
    "    Vda_filter = np.zeros(len(data))*np.nan\n",
    "    \n",
    "    for i in range(N/2, len(vector)-N/2):\n",
    "        vector_sub = vector[(i-(N/2)):(i+(N/2)+1)]\n",
    "        \n",
    "        if np.isnan(vector_sub[N/2]):\n",
    "            continue\n",
    "            \n",
    "        if np.isnan(vector_sub).sum() > (N/2+1):\n",
    "            \n",
    "            continue\n",
    "            \n",
    "        else: \n",
    "            Vda_filter[i-N/2] = np.nansum(W*vector_sub)/W_total\n",
    "        \n",
    "            \n",
    "    return Vda_filter\n",
    "    "
   ]
  }
 ],
 "metadata": {
  "kernelspec": {
   "display_name": "Python 2",
   "language": "python",
   "name": "python2"
  },
  "language_info": {
   "codemirror_mode": {
    "name": "ipython",
    "version": 2
   },
   "file_extension": ".py",
   "mimetype": "text/x-python",
   "name": "python",
   "nbconvert_exporter": "python",
   "pygments_lexer": "ipython2",
   "version": "2.7.13"
  }
 },
 "nbformat": 4,
 "nbformat_minor": 0
}
